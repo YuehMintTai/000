{
  "nbformat": 4,
  "nbformat_minor": 0,
  "metadata": {
    "colab": {
      "name": "20211017Rpython.ipynb",
      "provenance": [],
      "authorship_tag": "ABX9TyNQWBI20GSIZ75h5VGG1Li4",
      "include_colab_link": true
    },
    "kernelspec": {
      "name": "python3",
      "display_name": "Python 3"
    },
    "language_info": {
      "name": "python"
    }
  },
  "cells": [
    {
      "cell_type": "markdown",
      "metadata": {
        "id": "view-in-github",
        "colab_type": "text"
      },
      "source": [
        "<a href=\"https://colab.research.google.com/github/YuehMintTai/000/blob/main/20211017Rpython.ipynb\" target=\"_parent\"><img src=\"https://colab.research.google.com/assets/colab-badge.svg\" alt=\"Open In Colab\"/></a>"
      ]
    },
    {
      "cell_type": "code",
      "metadata": {
        "colab": {
          "base_uri": "https://localhost:8080/"
        },
        "id": "ANZ0RYKsRRG2",
        "outputId": "5d0000a6-49bb-4415-f0ed-a9dacf46909e"
      },
      "source": [
        "!pip install rpy2"
      ],
      "execution_count": 1,
      "outputs": [
        {
          "output_type": "stream",
          "name": "stdout",
          "text": [
            "Requirement already satisfied: rpy2 in /usr/local/lib/python3.7/dist-packages (3.4.5)\n",
            "Requirement already satisfied: pytz in /usr/local/lib/python3.7/dist-packages (from rpy2) (2018.9)\n",
            "Requirement already satisfied: jinja2 in /usr/local/lib/python3.7/dist-packages (from rpy2) (2.11.3)\n",
            "Requirement already satisfied: cffi>=1.10.0 in /usr/local/lib/python3.7/dist-packages (from rpy2) (1.14.6)\n",
            "Requirement already satisfied: tzlocal in /usr/local/lib/python3.7/dist-packages (from rpy2) (1.5.1)\n",
            "Requirement already satisfied: pycparser in /usr/local/lib/python3.7/dist-packages (from cffi>=1.10.0->rpy2) (2.20)\n",
            "Requirement already satisfied: MarkupSafe>=0.23 in /usr/local/lib/python3.7/dist-packages (from jinja2->rpy2) (2.0.1)\n"
          ]
        }
      ]
    },
    {
      "cell_type": "code",
      "metadata": {
        "id": "G4RlE1jKUaON"
      },
      "source": [
        "%load_ext rpy2.ipython"
      ],
      "execution_count": 2,
      "outputs": []
    },
    {
      "cell_type": "code",
      "metadata": {
        "id": "8bkEYqBRVAtW",
        "colab": {
          "base_uri": "https://localhost:8080/"
        },
        "outputId": "1462feda-2219-41ce-9c19-73f9ab6af569"
      },
      "source": [
        "%%R\n",
        "install.packages('pROC')"
      ],
      "execution_count": 3,
      "outputs": [
        {
          "output_type": "stream",
          "name": "stderr",
          "text": [
            "R[write to console]: Installing package into ‘/usr/local/lib/R/site-library’\n",
            "(as ‘lib’ is unspecified)\n",
            "\n",
            "R[write to console]: trying URL 'https://cran.rstudio.com/src/contrib/pROC_1.18.0.tar.gz'\n",
            "\n",
            "R[write to console]: Content type 'application/x-gzip'\n",
            "R[write to console]:  length 688430 bytes (672 KB)\n",
            "\n",
            "R[write to console]: =\n",
            "R[write to console]: =\n",
            "R[write to console]: =\n",
            "R[write to console]: =\n",
            "R[write to console]: =\n",
            "R[write to console]: =\n",
            "R[write to console]: =\n",
            "R[write to console]: =\n",
            "R[write to console]: =\n",
            "R[write to console]: =\n",
            "R[write to console]: =\n",
            "R[write to console]: =\n",
            "R[write to console]: =\n",
            "R[write to console]: =\n",
            "R[write to console]: =\n",
            "R[write to console]: =\n",
            "R[write to console]: =\n",
            "R[write to console]: =\n",
            "R[write to console]: =\n",
            "R[write to console]: =\n",
            "R[write to console]: =\n",
            "R[write to console]: =\n",
            "R[write to console]: =\n",
            "R[write to console]: =\n",
            "R[write to console]: =\n",
            "R[write to console]: =\n",
            "R[write to console]: =\n",
            "R[write to console]: =\n",
            "R[write to console]: =\n",
            "R[write to console]: =\n",
            "R[write to console]: =\n",
            "R[write to console]: =\n",
            "R[write to console]: =\n",
            "R[write to console]: =\n",
            "R[write to console]: =\n",
            "R[write to console]: =\n",
            "R[write to console]: =\n",
            "R[write to console]: =\n",
            "R[write to console]: =\n",
            "R[write to console]: =\n",
            "R[write to console]: =\n",
            "R[write to console]: =\n",
            "R[write to console]: =\n",
            "R[write to console]: =\n",
            "R[write to console]: =\n",
            "R[write to console]: =\n",
            "R[write to console]: =\n",
            "R[write to console]: =\n",
            "R[write to console]: =\n",
            "R[write to console]: =\n",
            "R[write to console]: \n",
            "\n",
            "R[write to console]: downloaded 672 KB\n",
            "\n",
            "\n",
            "R[write to console]: \n",
            "\n",
            "R[write to console]: \n",
            "R[write to console]: The downloaded source packages are in\n",
            "\t‘/tmp/Rtmppv6sdf/downloaded_packages’\n",
            "R[write to console]: \n",
            "R[write to console]: \n",
            "\n"
          ]
        }
      ]
    },
    {
      "cell_type": "code",
      "metadata": {
        "colab": {
          "base_uri": "https://localhost:8080/"
        },
        "id": "vVK0ZOy_Upx8",
        "outputId": "4a4ffb79-01ed-4489-aaba-112d29c1a4e2"
      },
      "source": [
        "%%R\n",
        "myData<-read.csv('dep_result_df')\n",
        "tail(myData,1)"
      ],
      "execution_count": 4,
      "outputs": [
        {
          "output_type": "stream",
          "name": "stdout",
          "text": [
            "        X real   predict 軍人 sex   age\n",
            "4471 4470    1 0.3512212    0   2 29.25\n"
          ]
        }
      ]
    },
    {
      "cell_type": "code",
      "metadata": {
        "colab": {
          "base_uri": "https://localhost:8080/",
          "height": 769
        },
        "id": "Tf5lihIZVcRU",
        "outputId": "bcaed44d-5946-4bba-9812-9e49bf765bea"
      },
      "source": [
        "%%R\n",
        "library(pROC)\n",
        "pROC_obj<-roc(myData$real,myData$predict,smoothed=TRUE, print.auc=TRUE, ci=TRUE, ci.alpha=0.9, plot=TRUE)\n",
        "myROC.ci<-ci.se(pROC_obj)\n",
        "plot(myROC.ci, type='shape',col='lightblue')"
      ],
      "execution_count": 5,
      "outputs": [
        {
          "output_type": "stream",
          "name": "stderr",
          "text": [
            "R[write to console]: Type 'citation(\"pROC\")' for a citation.\n",
            "\n",
            "R[write to console]: \n",
            "Attaching package: ‘pROC’\n",
            "\n",
            "\n",
            "R[write to console]: The following objects are masked from ‘package:stats’:\n",
            "\n",
            "    cov, smooth, var\n",
            "\n",
            "\n",
            "R[write to console]: Setting levels: control = 0, case = 1\n",
            "\n",
            "R[write to console]: Setting direction: controls < cases\n",
            "\n"
          ]
        },
        {
          "output_type": "stream",
          "name": "stdout",
          "text": [
            "  |======================================================================| 100%\n"
          ]
        },
        {
          "output_type": "display_data",
          "data": {
            "image/png": "[encoded data removed]"
          },
          "metadata": {}
        }
      ]
    },
    {
      "cell_type": "code",
      "metadata": {
        "id": "7FfUUXu5teeI"
      },
      "source": [
        "%%R\n",
        "install.packages('InformationValue')"
      ],
      "execution_count": null,
      "outputs": []
    },
    {
      "cell_type": "code",
      "metadata": {
        "colab": {
          "base_uri": "https://localhost:8080/"
        },
        "id": "nrcY9oarsTXm",
        "outputId": "f9c41c37-a06a-496a-b54e-8e4b52aee927"
      },
      "source": [
        "%%R\n",
        "library(InformationValue)\n",
        "optimal<-optimalCutoff(myData$real,myData$predict)[1]\n",
        "confusionMatrix(myData$real,myData$predict)\n",
        "confusionMatrix(myData$real,myData$predict,threshold=optimal)\n",
        "optimal ##0.1687012\n",
        "sensitivity(myData$real,myData$predict) #0.7041864\n",
        "specificity(myData$real,myData$predict) #0.9247035\n",
        "sensitivity(myData$real,myData$predict,threshold=optimal) ##0.9206161\n",
        "specificity(myData$real,myData$predict,threshold=optimal) ##0.8127901"
      ],
      "execution_count": 7,
      "outputs": [
        {
          "output_type": "stream",
          "name": "stdout",
          "text": [
            "[1] 0.8127901\n"
          ]
        }
      ]
    },
    {
      "cell_type": "code",
      "metadata": {
        "colab": {
          "base_uri": "https://localhost:8080/"
        },
        "id": "olC0gte9vRz2",
        "outputId": "29766019-0d41-4b7c-8d38-68cea28e57ee"
      },
      "source": [
        "%%R\n",
        "###select military cases\n",
        "tail(myData,1)\n",
        "myData_m<-myData[myData$`軍人`=='1',]\n",
        "tail(myData_m,1)\n",
        "myData_c<-myData[myData$軍人=='0',]\n",
        "tail(myData_c,1)"
      ],
      "execution_count": 17,
      "outputs": [
        {
          "output_type": "stream",
          "name": "stdout",
          "text": [
            "        X real   predict 軍人 sex   age\n",
            "4471 4470    1 0.3512212    0   2 29.25\n"
          ]
        }
      ]
    },
    {
      "cell_type": "code",
      "metadata": {
        "colab": {
          "base_uri": "https://localhost:8080/"
        },
        "id": "dERsBTZNy0Ou",
        "outputId": "61d731c4-ebcb-429e-83ec-58f14f5c9ea7"
      },
      "source": [
        "%%R\n",
        "rocm<-roc(myData_m$real,myData_m$predict)\n",
        "rocc<-roc(myData_c$real,myData_c$predict)\n",
        "rocT<-roc(myData$real,myData$predict)\n",
        "roc.test(roc1,roc2)\n",
        "roc.test(rocT,roc1)\n",
        "roc.test(rocT,roc2)"
      ],
      "execution_count": 34,
      "outputs": [
        {
          "output_type": "stream",
          "name": "stderr",
          "text": [
            "R[write to console]: Setting levels: control = 0, case = 1\n",
            "\n",
            "R[write to console]: Setting direction: controls < cases\n",
            "\n",
            "R[write to console]: Setting levels: control = 0, case = 1\n",
            "\n",
            "R[write to console]: Setting direction: controls < cases\n",
            "\n",
            "R[write to console]: Setting levels: control = 0, case = 1\n",
            "\n",
            "R[write to console]: Setting direction: controls < cases\n",
            "\n"
          ]
        },
        {
          "output_type": "stream",
          "name": "stdout",
          "text": [
            "\n",
            "\tDeLong's test for two ROC curves\n",
            "\n",
            "data:  rocT and roc2\n",
            "D = 2.0353, df = 3716.1, p-value = 0.04189\n",
            "alternative hypothesis: true difference in AUC is not equal to 0\n",
            "sample estimates:\n",
            "AUC of roc1 AUC of roc2 \n",
            "  0.9286641   0.9120201 \n",
            "\n"
          ]
        }
      ]
    },
    {
      "cell_type": "code",
      "metadata": {
        "colab": {
          "base_uri": "https://localhost:8080/",
          "height": 497
        },
        "id": "Wbwk00Uf140a",
        "outputId": "28c37e08-f361-49f0-890c-d99ec1ffc57e"
      },
      "source": [
        "%%R\n",
        "library(pROC)\n",
        "plot.roc(rocm,percent=TRUE,col='blue')\n",
        "lines.roc(rocc,percent=TRUE,col='red')\n",
        "lines.roc(rocT,col='green')"
      ],
      "execution_count": 36,
      "outputs": [
        {
          "output_type": "display_data",
          "data": {
            "image/png": "[encoded data removed]"
          },
          "metadata": {}
        }
      ]
    },
    {
      "cell_type": "code",
      "metadata": {
        "id": "Vln3LAKq3R5o"
      },
      "source": [
        ""
      ],
      "execution_count": null,
      "outputs": []
    }
  ]
}