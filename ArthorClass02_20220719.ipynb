{
  "nbformat": 4,
  "nbformat_minor": 0,
  "metadata": {
    "colab": {
      "name": "Untitled106.ipynb",
      "provenance": [],
      "authorship_tag": "ABX9TyMOfuj5SEIuMuCcdWK5Kzxi",
      "include_colab_link": true
    },
    "kernelspec": {
      "name": "python3",
      "display_name": "Python 3"
    },
    "language_info": {
      "name": "python"
    },
    "accelerator": "GPU",
    "gpuClass": "standard"
  },
  "cells": [
    {
      "cell_type": "markdown",
      "metadata": {
        "id": "view-in-github",
        "colab_type": "text"
      },
      "source": [
        "<a href=\"https://colab.research.google.com/github/YuehMintTai/000/blob/main/ArthorClass02_20220719.ipynb\" target=\"_parent\"><img src=\"https://colab.research.google.com/assets/colab-badge.svg\" alt=\"Open In Colab\"/></a>"
      ]
    },
    {
      "cell_type": "code",
      "execution_count": 1,
      "metadata": {
        "colab": {
          "base_uri": "https://localhost:8080/"
        },
        "id": "guk9DC-_G6_O",
        "outputId": "f23236b9-574e-487a-851c-913e1de0168b"
      },
      "outputs": [
        {
          "output_type": "stream",
          "name": "stdout",
          "text": [
            "\u001b[K     |████████████████████████████████| 4.9 MB 32.7 MB/s \n",
            "\u001b[?25h"
          ]
        }
      ],
      "source": [
        "!pip install -q -U \"tensorflow-text==2.8.*\""
      ]
    },
    {
      "cell_type": "code",
      "source": [
        "!pip install -q -U tf-models-official==2.7.0"
      ],
      "metadata": {
        "colab": {
          "base_uri": "https://localhost:8080/"
        },
        "id": "rLvZdv_OHK2M",
        "outputId": "33373962-97e2-4fb0-883d-b208ac52fe47"
      },
      "execution_count": 2,
      "outputs": [
        {
          "output_type": "stream",
          "name": "stdout",
          "text": [
            "\u001b[K     |████████████████████████████████| 1.8 MB 31.6 MB/s \n",
            "\u001b[K     |████████████████████████████████| 1.1 MB 54.3 MB/s \n",
            "\u001b[K     |████████████████████████████████| 99 kB 9.2 MB/s \n",
            "\u001b[K     |████████████████████████████████| 48.3 MB 1.9 MB/s \n",
            "\u001b[K     |████████████████████████████████| 237 kB 71.7 MB/s \n",
            "\u001b[K     |████████████████████████████████| 596 kB 62.8 MB/s \n",
            "\u001b[K     |████████████████████████████████| 1.2 MB 60.2 MB/s \n",
            "\u001b[K     |████████████████████████████████| 352 kB 66.0 MB/s \n",
            "\u001b[K     |████████████████████████████████| 43 kB 2.1 MB/s \n",
            "\u001b[K     |████████████████████████████████| 92 kB 11.5 MB/s \n",
            "\u001b[?25h  Building wheel for py-cpuinfo (setup.py) ... \u001b[?25l\u001b[?25hdone\n",
            "  Building wheel for seqeval (setup.py) ... \u001b[?25l\u001b[?25hdone\n"
          ]
        }
      ]
    },
    {
      "cell_type": "code",
      "source": [
        "import os, shutil, tensorflow as tf, tensorflow_hub as hub, tensorflow_text as text\n",
        "from official.nlp import optimization \n",
        "import matplotlib.pyplot as plt"
      ],
      "metadata": {
        "id": "68A46EzXHb4H"
      },
      "execution_count": 6,
      "outputs": []
    },
    {
      "cell_type": "code",
      "source": [
        "tf.config.list_physical_devices('GPU')"
      ],
      "metadata": {
        "colab": {
          "base_uri": "https://localhost:8080/"
        },
        "id": "NToqmc3CH8oO",
        "outputId": "9665e45d-b9e6-4d2f-e3df-4d1f2d358fda"
      },
      "execution_count": 8,
      "outputs": [
        {
          "output_type": "execute_result",
          "data": {
            "text/plain": [
              "[PhysicalDevice(name='/physical_device:GPU:0', device_type='GPU')]"
            ]
          },
          "metadata": {},
          "execution_count": 8
        }
      ]
    },
    {
      "cell_type": "code",
      "source": [
        "url = 'https://ai.stanford.edu/~amaas/data/sentiment/aclImdb_v1.tar.gz'\n"
      ],
      "metadata": {
        "id": "k4y7q33cIFb4"
      },
      "execution_count": null,
      "outputs": []
    }
  ]
}