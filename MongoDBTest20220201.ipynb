{
  "nbformat": 4,
  "nbformat_minor": 0,
  "metadata": {
    "colab": {
      "name": "MongoDBTest20220201.ipynb",
      "provenance": [],
      "authorship_tag": "ABX9TyMkCiJQjHxBowrBgxQubHBF",
      "include_colab_link": true
    },
    "kernelspec": {
      "name": "python3",
      "display_name": "Python 3"
    },
    "language_info": {
      "name": "python"
    }
  },
  "cells": [
    {
      "cell_type": "markdown",
      "metadata": {
        "id": "view-in-github",
        "colab_type": "text"
      },
      "source": [
        "<a href=\"https://colab.research.google.com/github/YuehMintTai/000/blob/main/MongoDBTest20220201.ipynb\" target=\"_parent\"><img src=\"https://colab.research.google.com/assets/colab-badge.svg\" alt=\"Open In Colab\"/></a>"
      ]
    },
    {
      "cell_type": "code",
      "execution_count": 7,
      "metadata": {
        "colab": {
          "base_uri": "https://localhost:8080/"
        },
        "id": "kXiELJ1PnI7n",
        "outputId": "c0649a07-2946-4004-8fca-23ecddcdf1d8"
      },
      "outputs": [
        {
          "output_type": "stream",
          "name": "stdout",
          "text": [
            "Requirement already satisfied: flask_ngrok in /usr/local/lib/python3.7/dist-packages (0.0.25)\n",
            "Requirement already satisfied: requests in /usr/local/lib/python3.7/dist-packages (from flask_ngrok) (2.23.0)\n",
            "Requirement already satisfied: Flask>=0.8 in /usr/local/lib/python3.7/dist-packages (from flask_ngrok) (1.1.4)\n",
            "Requirement already satisfied: Jinja2<3.0,>=2.10.1 in /usr/local/lib/python3.7/dist-packages (from Flask>=0.8->flask_ngrok) (2.11.3)\n",
            "Requirement already satisfied: Werkzeug<2.0,>=0.15 in /usr/local/lib/python3.7/dist-packages (from Flask>=0.8->flask_ngrok) (1.0.1)\n",
            "Requirement already satisfied: click<8.0,>=5.1 in /usr/local/lib/python3.7/dist-packages (from Flask>=0.8->flask_ngrok) (7.1.2)\n",
            "Requirement already satisfied: itsdangerous<2.0,>=0.24 in /usr/local/lib/python3.7/dist-packages (from Flask>=0.8->flask_ngrok) (1.1.0)\n",
            "Requirement already satisfied: MarkupSafe>=0.23 in /usr/local/lib/python3.7/dist-packages (from Jinja2<3.0,>=2.10.1->Flask>=0.8->flask_ngrok) (2.0.1)\n",
            "Requirement already satisfied: urllib3!=1.25.0,!=1.25.1,<1.26,>=1.21.1 in /usr/local/lib/python3.7/dist-packages (from requests->flask_ngrok) (1.24.3)\n",
            "Requirement already satisfied: idna<3,>=2.5 in /usr/local/lib/python3.7/dist-packages (from requests->flask_ngrok) (2.10)\n",
            "Requirement already satisfied: chardet<4,>=3.0.2 in /usr/local/lib/python3.7/dist-packages (from requests->flask_ngrok) (3.0.4)\n",
            "Requirement already satisfied: certifi>=2017.4.17 in /usr/local/lib/python3.7/dist-packages (from requests->flask_ngrok) (2021.10.8)\n",
            "Requirement already satisfied: faker in /usr/local/lib/python3.7/dist-packages (12.0.0)\n",
            "Requirement already satisfied: typing-extensions>=3.10.0.2 in /usr/local/lib/python3.7/dist-packages (from faker) (3.10.0.2)\n",
            "Requirement already satisfied: python-dateutil>=2.4 in /usr/local/lib/python3.7/dist-packages (from faker) (2.8.2)\n",
            "Requirement already satisfied: six>=1.5 in /usr/local/lib/python3.7/dist-packages (from python-dateutil>=2.4->faker) (1.15.0)\n",
            "Collecting pdfkit\n",
            "  Downloading pdfkit-1.0.0-py3-none-any.whl (12 kB)\n",
            "Installing collected packages: pdfkit\n",
            "Successfully installed pdfkit-1.0.0\n"
          ]
        }
      ],
      "source": [
        "!pip install flask_ngrok\n",
        "!pip install faker\n",
        "!pip install pdfkit"
      ]
    },
    {
      "cell_type": "code",
      "source": [
        "###https://dashboard.ngrok.com/get-started/setup!mkdir -p /drive/ngrok-ssh\n",
        "##https://colab.research.google.com/github/shawwn/colab-tricks/blob/master/ngrok-tricks.ipynb#scrollTo=1B_aC562JbJU\n",
        "%cd /drive/ngrok-ssh\n",
        "!wget https://bin.equinox.io/c/4VmDzA7iaHb/ngrok-stable-linux-amd64.zip -O ngrok-stable-linux-amd64.zip\n",
        "!unzip -u ngrok-stable-linux-amd64.zip\n",
        "!cp /drive/ngrok-ssh/ngrok /ngrok\n",
        "!chmod +x /ngrok\n",
        "!./ngrok authtoken 24VntdRE0Mqj6buTgjDDBLZLSBN_4tX4P8h72ZYpEudaobfKd"
      ],
      "metadata": {
        "colab": {
          "base_uri": "https://localhost:8080/"
        },
        "id": "kifGrNRxrwkY",
        "outputId": "d3123318-631e-4570-b38f-d3b1fb876c57"
      },
      "execution_count": 2,
      "outputs": [
        {
          "output_type": "stream",
          "name": "stdout",
          "text": [
            "[Errno 2] No such file or directory: '/drive/ngrok-ssh'\n",
            "/content\n",
            "--2022-02-02 11:10:47--  https://bin.equinox.io/c/4VmDzA7iaHb/ngrok-stable-linux-amd64.zip\n",
            "Resolving bin.equinox.io (bin.equinox.io)... 54.161.241.46, 52.202.168.65, 18.205.222.128, ...\n",
            "Connecting to bin.equinox.io (bin.equinox.io)|54.161.241.46|:443... connected.\n",
            "HTTP request sent, awaiting response... 200 OK\n",
            "Length: 13832437 (13M) [application/octet-stream]\n",
            "Saving to: ‘ngrok-stable-linux-amd64.zip’\n",
            "\n",
            "ngrok-stable-linux- 100%[===================>]  13.19M  47.1MB/s    in 0.3s    \n",
            "\n",
            "2022-02-02 11:10:48 (47.1 MB/s) - ‘ngrok-stable-linux-amd64.zip’ saved [13832437/13832437]\n",
            "\n",
            "Archive:  ngrok-stable-linux-amd64.zip\n",
            "  inflating: ngrok                   \n",
            "cp: cannot stat '/drive/ngrok-ssh/ngrok': No such file or directory\n",
            "chmod: cannot access '/ngrok': No such file or directory\n",
            "Authtoken saved to configuration file: /root/.ngrok2/ngrok.yml\n"
          ]
        }
      ]
    },
    {
      "cell_type": "code",
      "source": [
        "from flask.templating import render_template_string\n",
        "from flask_ngrok import run_with_ngrok\n",
        "from flask import Flask,request,make_response,Response,render_template\n",
        "import pymongo,json,faker,base64,io,pdfkit,datetime\n",
        "from PIL import Image\n",
        "from bson.objectid import ObjectId\n",
        "\n",
        "app=Flask(__name__)\n",
        "run_with_ngrok(app)\n",
        "\n",
        "fake=faker.Faker('zh-TW')\n",
        "myText=''\n",
        "try:\n",
        "  mongo=pymongo.MongoClient('mongodb://mymongodbtry:7dmrAHuHW7lQdVRhcEUFtTowlGEaiLJua4jFh04EM3CbcVJMrW02uZrkTygJX6hpdsRw1fo6PP67x2vTbMj8mQ==@mymongodbtry.mongo.cosmos.azure.com:10255/?ssl=true&replicaSet=globaldb&retrywrites=false&maxIdleTimeMS=120000&appName=@mymongodbtry@')\n",
        "  mycol=mongo.myTest.test6\n",
        "  myText='Succeed in connecting mongodb.'\n",
        "except Exception as ex:\n",
        "  print(ex)\n",
        "  myText='Fail to connect mongodb.'\n",
        "######LLLLLLLLLLLLLLLLLLLLLLLLLLLL\n",
        "@app.route('/')\n",
        "def home():\n",
        "  try:\n",
        "    mylist=list(mycol.find().sort([('_id',-1)]))\n",
        "    for j,i in enumerate(mylist):\n",
        "      i['_id']=str(i['_id'])\n",
        "      i['序號']=str(j+1)\n",
        "    ##return myText\n",
        "    #return json.dumps(mylist,ensure_ascii=False).encode('utf-8') \n",
        "    return render_template('index.html',title='User List',jsonfile=mylist)\n",
        "  except Exception as ex:\n",
        "    return ex\n",
        "  ##return '哈囉你好嗎?'\n",
        "#####CCCCCCCCCCCCCCCCCCCCCCCCCCCCCCCCCC\n",
        "@app.route('/createUser/')\n",
        "def createUser():\n",
        "  try:\n",
        "    newUser={'姓名':f'{fake.name()}',\n",
        "             'email':f'{fake.email()}',\n",
        "             '地址':f'{fake.address()}',\n",
        "             '留言':f'{fake.text()}'}\n",
        "    #print(newUser)\n",
        "    #return json.dumps(newUser,ensure_ascii=False,indent=4).encode('utf-8')\n",
        "    myResponse=mycol.insert_one(newUser)\n",
        "    return f'Succeed in creating user id:{myResponse.inserted_id}.<a href=\"/\"> /BACK LIST/ </a>'\n",
        "  except Exception as ex:\n",
        "    return ex\n",
        "####RRRRRRRRRRRRRRRRRRRRRRRRRRRRRRRRRR\n",
        "@app.route('/readUser/<id>')\n",
        "def readUser(id):\n",
        "  try:\n",
        "    mylist=list(mycol.find({'_id':ObjectId(id)}))\n",
        "    for i in mylist:\n",
        "      i['_id']=str(i['_id'])\n",
        "    return render_template('form.html',title='READ USER',jsonfile=mylist)\n",
        "  except Exception as ex:\n",
        "    return ex\n",
        "###UUUUUUUUUUUUUUUUUUUUUUUUUUUUUUUU\n",
        "@app.route('/updateUser/', methods=['POST'])\n",
        "def updateUser():\n",
        "  try:\n",
        "    myID=request.form['_id']\n",
        "    myName=request.form['姓名']\n",
        "    myEmail=request.form['email']\n",
        "    myAddress=request.form['地址']\n",
        "    myContent=request.form['留言']\n",
        "    myFilter={'_id':ObjectId(myID)}\n",
        "    myValue={'$set':{'姓名':myName,'email':myEmail,'地址':myAddress,'留言':myContent}}\n",
        "    mycol.update_one(myFilter,myValue)\n",
        "    return f'update id:{myID},<a href=/> BACK </a>'\n",
        "  except Exception as ex:\n",
        "    return ex\n",
        "\n",
        "###DDDDDDDDDDDDDDDDDDDDDDDDDDDDDDD\n",
        "@app.route('/deleteUser/<id>')\n",
        "def deleteUser(id):\n",
        "  try: \n",
        "    myResponse=mycol.delete_one({'_id':ObjectId(id)})\n",
        "    return f'Deleting user: {id}. <a href=\"/\"> BACK LIST </a>' \n",
        "  except Exception as ex:\n",
        "    return ex\n",
        "#####FFFFFFFFFFFFFFFFFFFFFFFFFFFFFFFF\n",
        "if __name__=='__main__':\n",
        "  app.run()"
      ],
      "metadata": {
        "colab": {
          "base_uri": "https://localhost:8080/"
        },
        "id": "wfxTLDvqnmu7",
        "outputId": "4cffe5b3-92d3-4898-8a31-802df23085f7"
      },
      "execution_count": 43,
      "outputs": [
        {
          "output_type": "stream",
          "name": "stdout",
          "text": [
            " * Serving Flask app \"__main__\" (lazy loading)\n",
            " * Environment: production\n",
            "\u001b[31m   WARNING: This is a development server. Do not use it in a production deployment.\u001b[0m\n",
            "\u001b[2m   Use a production WSGI server instead.\u001b[0m\n",
            " * Debug mode: off\n"
          ]
        },
        {
          "output_type": "stream",
          "name": "stderr",
          "text": [
            " * Running on http://127.0.0.1:5000/ (Press CTRL+C to quit)\n"
          ]
        },
        {
          "output_type": "stream",
          "name": "stdout",
          "text": [
            " * Running on http://e701-34-74-103-58.ngrok.io\n",
            " * Traffic stats available on http://127.0.0.1:4040\n"
          ]
        },
        {
          "output_type": "stream",
          "name": "stderr",
          "text": [
            "127.0.0.1 - - [02/Feb/2022 14:24:12] \"\u001b[37mGET / HTTP/1.1\u001b[0m\" 200 -\n",
            "127.0.0.1 - - [02/Feb/2022 14:24:13] \"\u001b[33mGET /favicon.ico HTTP/1.1\u001b[0m\" 404 -\n",
            "127.0.0.1 - - [02/Feb/2022 14:24:15] \"\u001b[37mGET /readUser/61fa881681aca02dd79abae0 HTTP/1.1\u001b[0m\" 200 -\n",
            "127.0.0.1 - - [02/Feb/2022 14:24:22] \"\u001b[37mPOST /updateUser/ HTTP/1.1\u001b[0m\" 200 -\n",
            "127.0.0.1 - - [02/Feb/2022 14:24:27] \"\u001b[37mGET / HTTP/1.1\u001b[0m\" 200 -\n",
            "127.0.0.1 - - [02/Feb/2022 14:24:33] \"\u001b[37mGET /deleteUser/61fa881681aca02dd79abae0 HTTP/1.1\u001b[0m\" 200 -\n",
            "127.0.0.1 - - [02/Feb/2022 14:24:36] \"\u001b[37mGET / HTTP/1.1\u001b[0m\" 200 -\n",
            "127.0.0.1 - - [02/Feb/2022 14:24:39] \"\u001b[37mGET /readUser/61fa87b681aca02dd79abade HTTP/1.1\u001b[0m\" 200 -\n",
            "127.0.0.1 - - [02/Feb/2022 14:24:45] \"\u001b[37mPOST /updateUser/ HTTP/1.1\u001b[0m\" 200 -\n",
            "127.0.0.1 - - [02/Feb/2022 14:24:47] \"\u001b[37mGET / HTTP/1.1\u001b[0m\" 200 -\n"
          ]
        }
      ]
    }
  ]
}