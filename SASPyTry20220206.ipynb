{
  "nbformat": 4,
  "nbformat_minor": 0,
  "metadata": {
    "colab": {
      "name": "SASPyTry20220206.ipynb",
      "provenance": [],
      "collapsed_sections": [],
      "authorship_tag": "ABX9TyNbXkiaxN4x8eVkpOJXFakv",
      "include_colab_link": true
    },
    "kernelspec": {
      "name": "python3",
      "display_name": "Python 3"
    },
    "language_info": {
      "name": "python"
    }
  },
  "cells": [
    {
      "cell_type": "markdown",
      "metadata": {
        "id": "view-in-github",
        "colab_type": "text"
      },
      "source": [
        "<a href=\"https://colab.research.google.com/github/YuehMintTai/000/blob/main/SASPyTry20220206.ipynb\" target=\"_parent\"><img src=\"https://colab.research.google.com/assets/colab-badge.svg\" alt=\"Open In Colab\"/></a>"
      ]
    },
    {
      "cell_type": "code",
      "source": [
        "!pip install saspy"
      ],
      "metadata": {
        "colab": {
          "base_uri": "https://localhost:8080/"
        },
        "id": "SFjj-_fUJLbL",
        "outputId": "8f8ae2f7-7995-4897-dec0-bbf1c766c6e9"
      },
      "execution_count": 2,
      "outputs": [
        {
          "output_type": "stream",
          "name": "stdout",
          "text": [
            "Collecting saspy\n",
            "  Downloading saspy-4.0.0.tar.gz (9.9 MB)\n",
            "\u001b[K     |████████████████████████████████| 9.9 MB 37.3 MB/s \n",
            "\u001b[?25hBuilding wheels for collected packages: saspy\n",
            "  Building wheel for saspy (setup.py) ... \u001b[?25l\u001b[?25hdone\n",
            "  Created wheel for saspy: filename=saspy-4.0.0-py3-none-any.whl size=9928625 sha256=a9c7b9afff6898fa8f3ef33fef98ada597e7248cdb6aea87d32fbcbe1486a79e\n",
            "  Stored in directory: /root/.cache/pip/wheels/5b/74/64/0303f718f66b09eeafe3471f07ae441420e3278ee3fdf196e5\n",
            "Successfully built saspy\n",
            "Installing collected packages: saspy\n",
            "Successfully installed saspy-4.0.0\n"
          ]
        }
      ]
    },
    {
      "cell_type": "code",
      "source": [
        "import saspy, os\n",
        "print(saspy.__file__.replace('__init__.py', 'sascfg_personal.py'))\n"
      ],
      "metadata": {
        "colab": {
          "base_uri": "https://localhost:8080/"
        },
        "id": "WYhrIbDXKry8",
        "outputId": "351fffc5-755d-4abb-f916-d33fdcf1d509"
      },
      "execution_count": 7,
      "outputs": [
        {
          "output_type": "stream",
          "name": "stdout",
          "text": [
            "/usr/local/lib/python3.7/dist-packages/saspy/sascfg_personal.py\n"
          ]
        }
      ]
    },
    {
      "cell_type": "code",
      "execution_count": 8,
      "metadata": {
        "colab": {
          "base_uri": "https://localhost:8080/",
          "height": 777
        },
        "id": "LvS7OKQUIxaI",
        "outputId": "1bb501b4-a59c-4f0c-bf6e-17672994d444"
      },
      "outputs": [
        {
          "output_type": "stream",
          "name": "stdout",
          "text": [
            "Using SAS Config named: oda\n",
            "Error trying to read authinfo file:/root/.authinfo\n",
            "[Errno 2] No such file or directory: '/root/.authinfo'\n",
            "Did not find key oda in authinfo file:/root/.authinfo\n",
            "\n",
            "Please enter the IOM user id: ytai1123@gmail.com\n",
            "The OS Error was:\n",
            "No such file or directory\n",
            "SAS Connection failed. No connection established. Double check your settings in sascfg_personal.py file.\n",
            "Attempted to run program C:\\Program Files (x86)\\Common Files\\Oracle\\Java\\javapath\\java.exe with the following parameters:['C:\\\\Program Files (x86)\\\\Common Files\\\\Oracle\\\\Java\\\\javapath\\\\java.exe', '-classpath', '/usr/local/lib/python3.7/dist-packages/saspy/java/saspyiom.jar:/usr/local/lib/python3.7/dist-packages/saspy/java/iomclient/log4j-1.2-api-2.12.4.jar:/usr/local/lib/python3.7/dist-packages/saspy/java/iomclient/log4j-api-2.12.4.jar:/usr/local/lib/python3.7/dist-packages/saspy/java/iomclient/log4j-core-2.12.4.jar:/usr/local/lib/python3.7/dist-packages/saspy/java/iomclient/sas.security.sspi.jar:/usr/local/lib/python3.7/dist-packages/saspy/java/iomclient/sas.core.jar:/usr/local/lib/python3.7/dist-packages/saspy/java/iomclient/sas.svc.connection.jar:/usr/local/lib/python3.7/dist-packages/saspy/java/iomclient/sas.rutil.jar:/usr/local/lib/python3.7/dist-packages/saspy/java/iomclient/sas.rutil.nls.jar:/usr/local/lib/python3.7/dist-packages/saspy/java/iomclient/sastpj.rutil.jar:/usr/local/lib/python3.7/dist-packages/saspy/java/thirdparty/glassfish-corba-internal-api.jar:/usr/local/lib/python3.7/dist-packages/saspy/java/thirdparty/glassfish-corba-omgapi.jar:/usr/local/lib/python3.7/dist-packages/saspy/java/thirdparty/glassfish-corba-orb.jar:/usr/local/lib/python3.7/dist-packages/saspy/java/thirdparty/pfl-basic.jar:/usr/local/lib/python3.7/dist-packages/saspy/java/thirdparty/pfl-tf.jar', 'pyiom.saspy2j', '-host', 'localhost', '-stdinport', '56483', '-stdoutport', '49331', '-stderrport', '60381', '-iomhost', 'odaws01-usw2.oda.sas.com;odaws02-usw2.oda.sas.com;odaws03-usw2.oda.sas.com;odaws04-usw2.oda.sas.com', '-iomport', '8591', '-user', 'ytai1123@gmail.com', '-lrecl', '1048576', '']\n",
            "If no OS Error above, try running the following command (where saspy is running) manually to see what is wrong:\n",
            "C:\\Program Files (x86)\\Common Files\\Oracle\\Java\\javapath\\java.exe -classpath /usr/local/lib/python3.7/dist-packages/saspy/java/saspyiom.jar:/usr/local/lib/python3.7/dist-packages/saspy/java/iomclient/log4j-1.2-api-2.12.4.jar:/usr/local/lib/python3.7/dist-packages/saspy/java/iomclient/log4j-api-2.12.4.jar:/usr/local/lib/python3.7/dist-packages/saspy/java/iomclient/log4j-core-2.12.4.jar:/usr/local/lib/python3.7/dist-packages/saspy/java/iomclient/sas.security.sspi.jar:/usr/local/lib/python3.7/dist-packages/saspy/java/iomclient/sas.core.jar:/usr/local/lib/python3.7/dist-packages/saspy/java/iomclient/sas.svc.connection.jar:/usr/local/lib/python3.7/dist-packages/saspy/java/iomclient/sas.rutil.jar:/usr/local/lib/python3.7/dist-packages/saspy/java/iomclient/sas.rutil.nls.jar:/usr/local/lib/python3.7/dist-packages/saspy/java/iomclient/sastpj.rutil.jar:/usr/local/lib/python3.7/dist-packages/saspy/java/thirdparty/glassfish-corba-internal-api.jar:/usr/local/lib/python3.7/dist-packages/saspy/java/thirdparty/glassfish-corba-omgapi.jar:/usr/local/lib/python3.7/dist-packages/saspy/java/thirdparty/glassfish-corba-orb.jar:/usr/local/lib/python3.7/dist-packages/saspy/java/thirdparty/pfl-basic.jar:/usr/local/lib/python3.7/dist-packages/saspy/java/thirdparty/pfl-tf.jar pyiom.saspy2j -host localhost -stdinport 56483 -stdoutport 49331 -stderrport 60381 -iomhost odaws01-usw2.oda.sas.com;odaws02-usw2.oda.sas.com;odaws03-usw2.oda.sas.com;odaws04-usw2.oda.sas.com -iomport 8591 -user ytai1123@gmail.com -lrecl 1048576  \n",
            "\n",
            "Java Error:\n",
            "\n",
            "\n",
            "SAS Connection failed. No connection established. Staus=(267, 64000)  Double check your settings in sascfg_personal.py file.\n",
            "Attempted to run program C:\\Program Files (x86)\\Common Files\\Oracle\\Java\\javapath\\java.exe with the following parameters:['C:\\\\Program Files (x86)\\\\Common Files\\\\Oracle\\\\Java\\\\javapath\\\\java.exe', '-classpath', '/usr/local/lib/python3.7/dist-packages/saspy/java/saspyiom.jar:/usr/local/lib/python3.7/dist-packages/saspy/java/iomclient/log4j-1.2-api-2.12.4.jar:/usr/local/lib/python3.7/dist-packages/saspy/java/iomclient/log4j-api-2.12.4.jar:/usr/local/lib/python3.7/dist-packages/saspy/java/iomclient/log4j-core-2.12.4.jar:/usr/local/lib/python3.7/dist-packages/saspy/java/iomclient/sas.security.sspi.jar:/usr/local/lib/python3.7/dist-packages/saspy/java/iomclient/sas.core.jar:/usr/local/lib/python3.7/dist-packages/saspy/java/iomclient/sas.svc.connection.jar:/usr/local/lib/python3.7/dist-packages/saspy/java/iomclient/sas.rutil.jar:/usr/local/lib/python3.7/dist-packages/saspy/java/iomclient/sas.rutil.nls.jar:/usr/local/lib/python3.7/dist-packages/saspy/java/iomclient/sastpj.rutil.jar:/usr/local/lib/python3.7/dist-packages/saspy/java/thirdparty/glassfish-corba-internal-api.jar:/usr/local/lib/python3.7/dist-packages/saspy/java/thirdparty/glassfish-corba-omgapi.jar:/usr/local/lib/python3.7/dist-packages/saspy/java/thirdparty/glassfish-corba-orb.jar:/usr/local/lib/python3.7/dist-packages/saspy/java/thirdparty/pfl-basic.jar:/usr/local/lib/python3.7/dist-packages/saspy/java/thirdparty/pfl-tf.jar', 'pyiom.saspy2j', '-host', 'localhost', '-stdinport', '56483', '-stdoutport', '49331', '-stderrport', '60381', '-iomhost', 'odaws01-usw2.oda.sas.com;odaws02-usw2.oda.sas.com;odaws03-usw2.oda.sas.com;odaws04-usw2.oda.sas.com', '-iomport', '8591', '-user', 'ytai1123@gmail.com', '-lrecl', '1048576', '']\n",
            "If no Java Error above, try running the following command (where saspy is running) manually to see if it's a problem starting Java:\n",
            "C:\\Program Files (x86)\\Common Files\\Oracle\\Java\\javapath\\java.exe -classpath /usr/local/lib/python3.7/dist-packages/saspy/java/saspyiom.jar:/usr/local/lib/python3.7/dist-packages/saspy/java/iomclient/log4j-1.2-api-2.12.4.jar:/usr/local/lib/python3.7/dist-packages/saspy/java/iomclient/log4j-api-2.12.4.jar:/usr/local/lib/python3.7/dist-packages/saspy/java/iomclient/log4j-core-2.12.4.jar:/usr/local/lib/python3.7/dist-packages/saspy/java/iomclient/sas.security.sspi.jar:/usr/local/lib/python3.7/dist-packages/saspy/java/iomclient/sas.core.jar:/usr/local/lib/python3.7/dist-packages/saspy/java/iomclient/sas.svc.connection.jar:/usr/local/lib/python3.7/dist-packages/saspy/java/iomclient/sas.rutil.jar:/usr/local/lib/python3.7/dist-packages/saspy/java/iomclient/sas.rutil.nls.jar:/usr/local/lib/python3.7/dist-packages/saspy/java/iomclient/sastpj.rutil.jar:/usr/local/lib/python3.7/dist-packages/saspy/java/thirdparty/glassfish-corba-internal-api.jar:/usr/local/lib/python3.7/dist-packages/saspy/java/thirdparty/glassfish-corba-omgapi.jar:/usr/local/lib/python3.7/dist-packages/saspy/java/thirdparty/glassfish-corba-orb.jar:/usr/local/lib/python3.7/dist-packages/saspy/java/thirdparty/pfl-basic.jar:/usr/local/lib/python3.7/dist-packages/saspy/java/thirdparty/pfl-tf.jar pyiom.saspy2j -host localhost -stdinport 56483 -stdoutport 49331 -stderrport 60381 -iomhost odaws01-usw2.oda.sas.com;odaws02-usw2.oda.sas.com;odaws03-usw2.oda.sas.com;odaws04-usw2.oda.sas.com -iomport 8591 -user ytai1123@gmail.com -lrecl 1048576  \n",
            "\n",
            "No SAS process attached. SAS process has terminated unexpectedly.\n",
            "Invalid response from SAS on inital submission. printing the SASLOG as diagnostic\n",
            "\n"
          ]
        },
        {
          "output_type": "error",
          "ename": "KeyError",
          "evalue": "ignored",
          "traceback": [
            "\u001b[0;31m---------------------------------------------------------------------------\u001b[0m",
            "\u001b[0;31mKeyError\u001b[0m                                  Traceback (most recent call last)",
            "\u001b[0;32m<ipython-input-8-46bf5284dc94>\u001b[0m in \u001b[0;36m<module>\u001b[0;34m()\u001b[0m\n\u001b[1;32m      1\u001b[0m \u001b[0;32mimport\u001b[0m \u001b[0msaspy\u001b[0m\u001b[0;34m,\u001b[0m \u001b[0mos\u001b[0m\u001b[0;34m\u001b[0m\u001b[0;34m\u001b[0m\u001b[0m\n\u001b[0;32m----> 2\u001b[0;31m \u001b[0msas_session\u001b[0m\u001b[0;34m=\u001b[0m\u001b[0msaspy\u001b[0m\u001b[0;34m.\u001b[0m\u001b[0mSASsession\u001b[0m\u001b[0;34m(\u001b[0m\u001b[0;34m)\u001b[0m\u001b[0;34m\u001b[0m\u001b[0;34m\u001b[0m\u001b[0m\n\u001b[0m\u001b[1;32m      3\u001b[0m \u001b[0msas_session\u001b[0m\u001b[0;34m\u001b[0m\u001b[0;34m\u001b[0m\u001b[0m\n",
            "\u001b[0;32m/usr/local/lib/python3.7/dist-packages/saspy/sasbase.py\u001b[0m in \u001b[0;36m__init__\u001b[0;34m(self, **kwargs)\u001b[0m\n\u001b[1;32m    588\u001b[0m         \u001b[0;32mif\u001b[0m \u001b[0mself\u001b[0m\u001b[0;34m.\u001b[0m\u001b[0msascfg\u001b[0m\u001b[0;34m.\u001b[0m\u001b[0mmode\u001b[0m \u001b[0;34m!=\u001b[0m \u001b[0;34m'HTTP'\u001b[0m\u001b[0;34m:\u001b[0m\u001b[0;34m\u001b[0m\u001b[0;34m\u001b[0m\u001b[0m\n\u001b[1;32m    589\u001b[0m            \u001b[0;32mtry\u001b[0m\u001b[0;34m:\u001b[0m\u001b[0;34m\u001b[0m\u001b[0;34m\u001b[0m\u001b[0m\n\u001b[0;32m--> 590\u001b[0;31m               \u001b[0mself\u001b[0m\u001b[0;34m.\u001b[0m\u001b[0mpyenc\u001b[0m \u001b[0;34m=\u001b[0m \u001b[0msas_encoding_mapping\u001b[0m\u001b[0;34m[\u001b[0m\u001b[0mself\u001b[0m\u001b[0;34m.\u001b[0m\u001b[0msascei\u001b[0m\u001b[0;34m]\u001b[0m\u001b[0;34m\u001b[0m\u001b[0;34m\u001b[0m\u001b[0m\n\u001b[0m\u001b[1;32m    591\u001b[0m            \u001b[0;32mexcept\u001b[0m \u001b[0mKeyError\u001b[0m\u001b[0;34m:\u001b[0m\u001b[0;34m\u001b[0m\u001b[0;34m\u001b[0m\u001b[0m\n\u001b[1;32m    592\u001b[0m               \u001b[0mlogger\u001b[0m\u001b[0;34m.\u001b[0m\u001b[0mfatal\u001b[0m\u001b[0;34m(\u001b[0m\u001b[0;34m\"Invalid response from SAS on inital submission. printing the SASLOG as diagnostic\"\u001b[0m\u001b[0;34m)\u001b[0m\u001b[0;34m\u001b[0m\u001b[0;34m\u001b[0m\u001b[0m\n",
            "\u001b[0;31mKeyError\u001b[0m: 'No SAS process attached. SAS process has terminated unexpectedly.'"
          ]
        }
      ],
      "source": [
        "import saspy, os\n",
        "sas_session=saspy.SASsession()\n",
        "sas_session"
      ]
    }
  ]
}